{
 "cells": [
  {
   "cell_type": "markdown",
   "metadata": {},
   "source": [
    "# Sonification with ICsound \n",
    "### part 1"
   ]
  },
  {
   "cell_type": "markdown",
   "metadata": {},
   "source": [
    "### Installation\n",
    "\n",
    "I am using:\n",
    "    \n",
    "    1. The Anaconda Python environment on OSX\n",
    "    2. Csound on OSX\n",
    "    3. git\n",
    "    "
   ]
  },
  {
   "cell_type": "code",
   "execution_count": 9,
   "metadata": {},
   "outputs": [],
   "source": [
    "#!cp /Library/Python/2.7/site-packages/ctcsound.py ~/anaconda3/lib/python3.6/\n",
    "#!git clone https://github.com/fggp/ctcsound.git\n",
    "#!cp ctcsound/csoundmagics/csoundmagics.py ~/anaconda3/lib/python3.6/\n",
    "#!cp ctcsound/csoundmagics/csound.js ~/anaconda3/lib/python3.6/\n",
    "#!cp ctcsound/csoundmagics/custom.js ~/anaconda3/lib/python3.6/\n"
   ]
  },
  {
   "cell_type": "markdown",
   "metadata": {},
   "source": [
    "```\n",
    "!cp /Library/Python/2.7/site-packages/ctcsound.py ~/anaconda3/lib/python3.6/\n",
    "!git clone https://github.com/fggp/ctcsound.git\n",
    "!cp ctcsound/csoundmagics/csoundmagics.py ~/anaconda3/lib/python3.6/\n",
    "!cp ctcsound/csoundmagics/csound.js ~/anaconda3/lib/python3.6/\n",
    "!cp ctcsound/csoundmagics/custom.js ~/anaconda3/lib/python3.6/\n",
    "\n",
    "```"
   ]
  },
  {
   "cell_type": "code",
   "execution_count": 2,
   "metadata": {},
   "outputs": [],
   "source": [
    "import ctcsound\n",
    "cs = ctcsound.Csound()"
   ]
  },
  {
   "cell_type": "code",
   "execution_count": 5,
   "metadata": {},
   "outputs": [],
   "source": [
    "csd = '''\n",
    "<CsoundSynthesizer>\n",
    "\n",
    "<CsOptions>\n",
    "  -d -o dac -m0\n",
    "</CsOptions>\n",
    "\n",
    "<CsInstruments>\n",
    "sr     = 48000\n",
    "ksmps  = 100\n",
    "nchnls = 2\n",
    "0dbfs  = 1\n",
    "\n",
    "          instr 1\n",
    "idur      =         p3\n",
    "iamp      =         p4\n",
    "icps      =         cpspch(p5)\n",
    "irise     =         p6\n",
    "idec      =         p7\n",
    "ipan      =         p8\n",
    "\n",
    "kenv      linen     iamp, irise, idur, idec\n",
    "kenv      =         kenv*kenv\n",
    "asig      poscil    kenv, icps\n",
    "a1, a2    pan2      asig, ipan\n",
    "          outs      a1, a2\n",
    "          endin\n",
    "</CsInstruments>\n",
    "\n",
    "<CsScore>\n",
    "i 1 0 1 0.5 8.06 0.05 0.3 0.5\n",
    "e 1.5\n",
    "</CsScore>\n",
    "</CsoundSynthesizer>\n",
    "'''\n",
    "ret = cs.compileCsdText(csd)\n",
    "if ret == ctcsound.CSOUND_SUCCESS:\n",
    "    cs.start()\n",
    "    cs.perform()\n",
    "    cs.reset()"
   ]
  },
  {
   "cell_type": "code",
   "execution_count": 6,
   "metadata": {},
   "outputs": [
    {
     "name": "stdout",
     "output_type": "stream",
     "text": [
      "The csoundmagics extension is already loaded. To reload it, use:\n",
      "  %reload_ext csoundmagics\n"
     ]
    }
   ],
   "source": [
    "%load_ext csoundmagics"
   ]
  },
  {
   "cell_type": "code",
   "execution_count": 7,
   "metadata": {},
   "outputs": [],
   "source": [
    "%%csd crossfm\n",
    "<CsoundSynthesizer>\n",
    "\n",
    "<CsOptions>\n",
    "  -d -o dac\n",
    "</CsOptions>\n",
    "\n",
    "<CsInstruments>\n",
    "sr     = 48000\n",
    "ksmps  = 100\n",
    "nchnls = 2\n",
    "0dbfs  = 1\n",
    "\n",
    "          instr 1\n",
    "idur       =          p3 \n",
    "iamp       =          p4 \n",
    "ifrq1      =          p5 \n",
    "ifrq2      =          p6 \n",
    "indx1      =          p7 \n",
    "indx2      =          p8 \n",
    "kenv       linen      iamp, 0.05, idur, 0.2 \n",
    "a1, a2     crossfm    ifrq1, ifrq2, indx1, indx2, 1, 1, 1 \n",
    "           outs       a1*kenv, a2*kenv \n",
    "          endin\n",
    "\n",
    "          instr 2\n",
    "kx         init       0.0 \n",
    "kdx        init       0.1 \n",
    "kdur       init       p4 \n",
    "kamp       init       p5 \n",
    "kndx       init       0 \n",
    "kmax       init       p6 \n",
    "kfq1       init       440.0 \n",
    "kfq2       init       557.0 \n",
    "knx1       init       3.5 \n",
    "knx2       init       4.8 \n",
    "           event      \"i\", 1, kx, kdur, kamp, kfq1, kfq2, knx1, knx2 \n",
    "kx         =          kx + kdx \n",
    "knx1       =          knx1 - 0.025 \n",
    "knx2       =          knx2 - 0.075 \n",
    "kndx       =          kndx + 1 \n",
    "if (kndx <= kmax) kgoto nextone\n",
    "           turnoff \n",
    "nextone: \n",
    "          endin\n",
    "</CsInstruments>\n",
    "\n",
    "<CsScore>\n",
    "f 1 0 16384 10 1 0\n",
    "\n",
    ";f 0 3600\n",
    "\n",
    "i 2 0 2 0.67 0.03 150\n",
    "i 1 15.1 1.5 0.025 440 557 -0.25 -6.45 0.05 1.2\n",
    "e\n",
    "</CsScore>\n",
    "</CsoundSynthesizer>"
   ]
  },
  {
   "cell_type": "code",
   "execution_count": 8,
   "metadata": {},
   "outputs": [
    {
     "name": "stdout",
     "output_type": "stream",
     "text": [
      "<CsoundSynthesizer>\n",
      "\n",
      "<CsOptions>\n",
      "  -d -o dac\n",
      "</CsOptions>\n",
      "\n",
      "<CsInstruments>\n",
      "sr     = 48000\n",
      "ksmps  = 100\n",
      "nchnls = 2\n",
      "0dbfs  = 1\n",
      "\n",
      "          instr 1\n",
      "idur       =          p3 \n",
      "iamp       =          p4 \n",
      "ifrq1      =          p5 \n",
      "ifrq2      =          p6 \n",
      "indx1      =          p7 \n",
      "indx2      =          p8 \n",
      "kenv       linen      iamp, 0.05, idur, 0.2 \n",
      "a1, a2     crossfm    ifrq1, ifrq2, indx1, indx2, 1, 1, 1 \n",
      "           outs       a1*kenv, a2*kenv \n",
      "          endin\n",
      "\n",
      "          instr 2\n",
      "kx         init       0.0 \n",
      "kdx        init       0.1 \n",
      "kdur       init       p4 \n",
      "kamp       init       p5 \n",
      "kndx       init       0 \n",
      "kmax       init       p6 \n",
      "kfq1       init       440.0 \n",
      "kfq2       init       557.0 \n",
      "knx1       init       3.5 \n",
      "knx2       init       4.8 \n",
      "           event      \"i\", 1, kx, kdur, kamp, kfq1, kfq2, knx1, knx2 \n",
      "kx         =          kx + kdx \n",
      "knx1       =          knx1 - 0.025 \n",
      "knx2       =          knx2 - 0.075 \n",
      "kndx       =          kndx + 1 \n",
      "if (kndx <= kmax) kgoto nextone\n",
      "           turnoff \n",
      "nextone: \n",
      "          endin\n",
      "</CsInstruments>\n",
      "\n",
      "<CsScore>\n",
      "f 1 0 16384 10 1 0\n",
      "\n",
      ";f 0 3600\n",
      "\n",
      "i 2 0 2 0.67 0.03 150\n",
      "i 1 15.1 1.5 0.025 440 557 -0.25 -6.45 0.05 1.2\n",
      "e\n",
      "</CsScore>\n",
      "</CsoundSynthesizer>\n"
     ]
    }
   ],
   "source": [
    "print(__csd['crossfm'])"
   ]
  },
  {
   "cell_type": "code",
   "execution_count": 10,
   "metadata": {},
   "outputs": [],
   "source": [
    "runCsd('crossfm')\n",
    "%reload_ext csoundmagics"
   ]
  },
  {
   "cell_type": "markdown",
   "metadata": {},
   "source": [
    "```csound\n",
    "<CsoundSynthesizer>\n",
    "\n",
    "<CsOptions>\n",
    "  -d -o dac\n",
    "</CsOptions>\n",
    "\n",
    "<CsInstruments>\n",
    "sr     = 48000\n",
    "ksmps  = 100\n",
    "nchnls = 2\n",
    "0dbfs  = 1\n",
    "\n",
    "          instr 1\n",
    "idur       =          p3 \n",
    "iamp       =          p4 \n",
    "ifrq1      =          p5 \n",
    "ifrq2      =          p6 \n",
    "indx1      =          p7 \n",
    "indx2      =          p8 \n",
    "kenv       linen      iamp, 0.05, idur, 0.2 \n",
    "a1, a2     crossfm    ifrq1, ifrq2, indx1, indx2, 1, 1, 1 \n",
    "           outs       a1*kenv, a2*kenv \n",
    "          endin\n",
    "\n",
    "          instr 2\n",
    "kx         init       0.0 \n",
    "kdx        init       0.1 \n",
    "kdur       init       p4 \n",
    "kamp       init       p5 \n",
    "kndx       init       0 \n",
    "kmax       init       p6 \n",
    "kfq1       init       440.0 \n",
    "kfq2       init       557.0 \n",
    "knx1       init       3.5 \n",
    "knx2       init       4.8 \n",
    "           event      \"i\", 1, kx, kdur, kamp, kfq1, kfq2, knx1, knx2 \n",
    "kx         =          kx + kdx \n",
    "knx1       =          knx1 - 0.025 \n",
    "knx2       =          knx2 - 0.075 \n",
    "kndx       =          kndx + 1 \n",
    "if (kndx <= kmax) kgoto nextone\n",
    "           turnoff \n",
    "nextone: \n",
    "          endin\n",
    "</CsInstruments>\n",
    "\n",
    "<CsScore>\n",
    "f 1 0 16384 10 1 0\n",
    "\n",
    ";f 0 3600\n",
    "\n",
    "i 2 0 2 0.67 0.03 150\n",
    "i 1 15.1 1.5 0.025 440 557 -0.25 -6.45 0.05 1.2\n",
    "e\n",
    "</CsScore>\n",
    "</CsoundSynthesizer>\n",
    "```"
   ]
  },
  {
   "cell_type": "code",
   "execution_count": null,
   "metadata": {},
   "outputs": [],
   "source": []
  },
  {
   "cell_type": "code",
   "execution_count": null,
   "metadata": {},
   "outputs": [],
   "source": []
  },
  {
   "cell_type": "code",
   "execution_count": 12,
   "metadata": {},
   "outputs": [
    {
     "name": "stdout",
     "output_type": "stream",
     "text": [
      "Csound engine started at slot#: 1.\n",
      "Listening to port 12895\n"
     ]
    }
   ],
   "source": [
    "cs = ICsound(port=12895)"
   ]
  },
  {
   "cell_type": "code",
   "execution_count": null,
   "metadata": {},
   "outputs": [],
   "source": []
  },
  {
   "cell_type": "code",
   "execution_count": 13,
   "metadata": {},
   "outputs": [
    {
     "name": "stdout",
     "output_type": "stream",
     "text": [
      "Help on method startEngine in module csoundmagics:\n",
      "\n",
      "startEngine(sr=48000, ksmps=100, nchnls=2, zerodbfs=1.0, dac='dac', adc='', port=0, bufferSize=0) method of csoundmagics.ICsound instance\n",
      "    Start an ICsound engine.\n",
      "    \n",
      "    The user can specify values for sr, ksmps, nchnls, zerodbfs, dac, adc,\n",
      "    a port number, and the messages buffer size. If a port number is given,\n",
      "    this engine will listen to that port for csound code and events.\n",
      "\n"
     ]
    }
   ],
   "source": [
    "help(cs.startEngine)"
   ]
  },
  {
   "cell_type": "code",
   "execution_count": null,
   "metadata": {},
   "outputs": [],
   "source": []
  },
  {
   "cell_type": "code",
   "execution_count": 14,
   "metadata": {},
   "outputs": [
    {
     "name": "stdout",
     "output_type": "stream",
     "text": [
      "CsoundMagics: Csound already running\n"
     ]
    }
   ],
   "source": [
    "cs.startEngine()"
   ]
  },
  {
   "cell_type": "code",
   "execution_count": null,
   "metadata": {},
   "outputs": [],
   "source": []
  },
  {
   "cell_type": "code",
   "execution_count": 15,
   "metadata": {},
   "outputs": [],
   "source": [
    "%%csound 1\n",
    "gkinstr init 1"
   ]
  },
  {
   "cell_type": "code",
   "execution_count": null,
   "metadata": {},
   "outputs": [],
   "source": []
  },
  {
   "cell_type": "code",
   "execution_count": 16,
   "metadata": {},
   "outputs": [],
   "source": [
    "%%csound\n",
    "print i(gkinstr)"
   ]
  },
  {
   "cell_type": "code",
   "execution_count": null,
   "metadata": {},
   "outputs": [],
   "source": []
  },
  {
   "cell_type": "code",
   "execution_count": 17,
   "metadata": {},
   "outputs": [
    {
     "name": "stdout",
     "output_type": "stream",
     "text": [
      "rtaudio: PortAudio module enabled ...\n",
      "using callback interface\n",
      "graphics suppressed, ascii substituted\n",
      "0dBFS level = 1.0\n",
      "orch now loaded\n",
      "audio buffered in 1024 sample-frame blocks\n",
      "UDP server started on port 12895\n",
      "PortAudio V19-devel (built Feb 12 2010 09:42:54)\n",
      "   0: dac0 (Built-in Output [Core Audio])\n",
      "   1: dac1 (Premiere Pro 8.0 [Core Audio])\n",
      "PortAudio: selected output device 'Built-in Output'\n",
      "writing 2048 sample blks of 64-bit floats to dac\n",
      "SECTION 1:\n",
      "instr 0:  #i0 = 1.000\n",
      "\n"
     ]
    }
   ],
   "source": [
    "cs.printLog()"
   ]
  },
  {
   "cell_type": "code",
   "execution_count": null,
   "metadata": {},
   "outputs": [],
   "source": []
  },
  {
   "cell_type": "markdown",
   "metadata": {},
   "source": [
    "## Function Tables"
   ]
  },
  {
   "cell_type": "code",
   "execution_count": 18,
   "metadata": {},
   "outputs": [],
   "source": [
    "cs.fillTable(1, array([8, 7, 9, 1, 1, 1]))\n",
    "cs.fillTable(2, [4, 5, 7, 0, 8, 7, 9, 6])"
   ]
  },
  {
   "cell_type": "code",
   "execution_count": null,
   "metadata": {},
   "outputs": [],
   "source": []
  },
  {
   "cell_type": "code",
   "execution_count": 19,
   "metadata": {},
   "outputs": [
    {
     "data": {
      "image/png": "[encoded data removed]",
      "text/plain": [
       "<matplotlib.figure.Figure at 0x10706d160>"
      ]
     },
     "metadata": {},
     "output_type": "display_data"
    }
   ],
   "source": [
    "cs.plotTable(1)\n",
    "cs.plotTable(2, reuse=True)\n",
    "grid()"
   ]
  },
  {
   "cell_type": "code",
   "execution_count": null,
   "metadata": {},
   "outputs": [],
   "source": []
  },
  {
   "cell_type": "code",
   "execution_count": 21,
   "metadata": {},
   "outputs": [
    {
     "data": {
      "text/plain": [
       "array([8., 7., 9., 1., 1., 1.])"
      ]
     },
     "execution_count": 21,
     "metadata": {},
     "output_type": "execute_result"
    }
   ],
   "source": [
    "cs.table(1)\n"
   ]
  },
  {
   "cell_type": "code",
   "execution_count": 22,
   "metadata": {},
   "outputs": [
    {
     "data": {
      "text/plain": [
       "array([4., 5., 7., 0., 8., 7., 9., 6.])"
      ]
     },
     "execution_count": 22,
     "metadata": {},
     "output_type": "execute_result"
    }
   ],
   "source": [
    "cs.table(2)"
   ]
  },
  {
   "cell_type": "code",
   "execution_count": null,
   "metadata": {},
   "outputs": [],
   "source": []
  },
  {
   "cell_type": "code",
   "execution_count": 23,
   "metadata": {},
   "outputs": [
    {
     "data": {
      "image/png": "[encoded data removed]",
      "text/plain": [
       "<matplotlib.figure.Figure at 0x114b2c080>"
      ]
     },
     "metadata": {},
     "output_type": "display_data"
    }
   ],
   "source": [
    "cs.makeTable(2, 1024, 10, 1)\n",
    "cs.makeTable(3, 1024, -10, 0.5, 1)\n",
    "cs.plotTable(2)\n",
    "cs.plotTable(3, reuse=True)"
   ]
  },
  {
   "cell_type": "code",
   "execution_count": null,
   "metadata": {},
   "outputs": [],
   "source": []
  },
  {
   "cell_type": "code",
   "execution_count": 24,
   "metadata": {},
   "outputs": [
    {
     "data": {
      "text/plain": [
       "array([0.57580819, 0.58081396, 0.58579786, 0.5907597 , 0.5956993 ])"
      ]
     },
     "execution_count": 24,
     "metadata": {},
     "output_type": "execute_result"
    }
   ],
   "source": [
    "cs.table(2)[100: 105]"
   ]
  },
  {
   "cell_type": "code",
   "execution_count": null,
   "metadata": {},
   "outputs": [],
   "source": []
  },
  {
   "cell_type": "code",
   "execution_count": 25,
   "metadata": {},
   "outputs": [
    {
     "name": "stdout",
     "output_type": "stream",
     "text": [
      "0 .. 1 .. 2 .. 3 .. 4 .. 5 .. 6 .. 7 .. 8 .. 9 .. 10 .. 11 .. 12 .. 13 .. 14 .. 15 .. 16 .. 17 .. 18 .. 19 .. 20 .. 21 .. 22 .. 23 .. 24 .. 25 .. 26 .. 27 .. 28 .. 29 .. 30 .. 31 .. 32 .. 33 .. 34 .. 35 .. 36 .. 37 .. 38 .. 39 .. 40 .. 41 .. 42 .. 43 .. 44 .. 45 .. 46 .. 47 .. 48 .. 49 .. 50 .. 51 .. 52 .. 53 .. 54 .. 55 .. 56 .. 57 .. 58 .. 59 .. 60 .. 61 .. 62 .. 63 .. 64 .. 65 .. 66 .. 67 .. 68 .. 69 .. 70 .. 71 .. 72 .. 73 .. 74 .. 75 .. 76 .. 77 .. 78 .. 79 .. 80 .. 81 .. 82 .. 83 .. 84 .. 85 .. 86 .. 87 .. 88 .. 89 .. 90 .. 91 .. 92 .. 93 .. 94 .. 95 .. 96 .. 97 .. 98 .. 99 .. 100 .. 101 .. 102 .. 103 .. 104 .. 105 .. 106 .. 107 .. 108 .. 109 .. 110 .. 111 .. 112 .. 113 .. 114 .. 115 .. 116 .. 117 .. 118 .. 119 .. 120 .. 121 .. 122 .. 123 .. 124 .. 125 .. 126 .. 127 .. 128 .. 129 .. 130 .. 131 .. 132 .. 133 .. 134 .. 135 .. 136 .. 137 .. 138 .. 139 .. 140 .. 141 .. 142 .. 143 .. 144 .. 145 .. 146 .. 147 .. 148 .. 149 .. 150 .. 151 .. 152 .. 153 .. 154 .. 155 .. 156 .. 157 .. 158 .. 159 .. 160 .. 161 .. 162 .. 163 .. 164 .. 165 .. 166 .. 167 .. 168 .. 169 .. 170 .. 171 .. 172 .. 173 .. 174 .. 175 .. 176 .. 177 .. 178 .. 179 .. 180 .. 181 .. 182 .. 183 .. 184 .. 185 .. 186 .. 187 .. 188 .. 189 .. 190 .. 191 .. 192 .. 193 .. 194 .. 195 .. 196 .. 197 .. 198 .. 199 .. 200 .. 201 .. 202 .. 203 .. 204 .. 205 .. 206 .. 207 .. 208 .. 209 .. 210 .. 211 .. 212 .. 213 .. 214 .. 215 .. 216 .. 217 .. 218 .. 219 .. 220 .. 221 .. 222 .. 223 .. 224 .. 225 .. 226 .. 227 .. 228 .. 229 .. 230 .. 231 .. 232 .. 233 .. 234 .. 235 .. 236 .. 237 .. 238 .. 239 .. 240 .. 241 .. 242 .. 243 .. 244 .. 245 .. 246 .. 247 .. 248 .. 249 .. 250 .. 251 .. 252 .. 253 .. 254 .. 255 .. 256 .. 257 .. 258 .. 259 .. 260 .. 261 .. 262 .. 263 .. 264 .. 265 .. 266 .. 267 .. 268 .. 269 .. 270 .. 271 .. 272 .. 273 .. 274 .. 275 .. 276 .. 277 .. 278 .. 279 .. 280 .. 281 .. 282 .. 283 .. 284 .. 285 .. 286 .. 287 .. 288 .. 289 .. 290 .. 291 .. 292 .. 293 .. 294 .. 295 .. 296 .. 297 .. 298 .. 299 .. 300 .. 301 .. 302 .. 303 .. 304 .. 305 .. 306 .. 307 .. 308 .. 309 .. 310 .. 311 .. 312 .. 313 .. 314 .. 315 .. 316 .. 317 .. 318 .. 319 .. "
     ]
    }
   ],
   "source": [
    "randsig = random.random((320, 720))\n",
    "i = 0\n",
    "for i, row in enumerate(randsig):\n",
    "    cs.fillTable(50 + i, row)\n",
    "    print(i, '..', end=' ')"
   ]
  },
  {
   "cell_type": "code",
   "execution_count": null,
   "metadata": {},
   "outputs": [],
   "source": []
  },
  {
   "cell_type": "code",
   "execution_count": 26,
   "metadata": {},
   "outputs": [
    {
     "data": {
      "image/png": "[encoded data removed]",
      "text/plain": [
       "<matplotlib.figure.Figure at 0x11703e5c0>"
      ]
     },
     "metadata": {},
     "output_type": "display_data"
    }
   ],
   "source": [
    "cs.plotTable(104)"
   ]
  },
  {
   "cell_type": "code",
   "execution_count": 29,
   "metadata": {},
   "outputs": [
    {
     "name": "stdout",
     "output_type": "stream",
     "text": [
      "Csound engine started at slot#: 2.\n"
     ]
    }
   ],
   "source": [
    "cs_client = ICsound()\n",
    "cs_client.startClient()"
   ]
  },
  {
   "cell_type": "code",
   "execution_count": 30,
   "metadata": {},
   "outputs": [],
   "source": [
    "cs.clearLog()"
   ]
  },
  {
   "cell_type": "code",
   "execution_count": 31,
   "metadata": {},
   "outputs": [],
   "source": [
    "cs_client.sendScore(\"i 1 0 1\")\n",
    "cs_client.sendCode(\"print i(gkinstr)\")"
   ]
  },
  {
   "cell_type": "code",
   "execution_count": 32,
   "metadata": {},
   "outputs": [
    {
     "name": "stdout",
     "output_type": "stream",
     "text": [
      "\n"
     ]
    }
   ],
   "source": [
    "cs.printLog()"
   ]
  },
  {
   "cell_type": "markdown",
   "metadata": {},
   "source": [
    "### Sonification\n",
    "\n",
    "Reading Earthquake data through web API"
   ]
  },
  {
   "cell_type": "code",
   "execution_count": 41,
   "metadata": {},
   "outputs": [
    {
     "name": "stdout",
     "output_type": "stream",
     "text": [
      "CPU times: user 2.83 s, sys: 2.97 s, total: 5.8 s\n",
      "Wall time: 1min 27s\n"
     ]
    }
   ],
   "source": [
    "%%time\n",
    "prefix = 'http://service.iris.edu/irisws/timeseries/1/query?'\n",
    "SCNL_parameters = 'net=IU&sta=ANMO&loc=00&cha=BHZ&'\n",
    "times = 'starttime=2005-01-01T00:00:00&endtime=2005-01-02T00:00:00&'\n",
    "output = 'output=ascii'\n",
    "import urllib\n",
    "f = urllib.request.urlopen(prefix + SCNL_parameters + times + output)\n",
    "timeseries = f.read()"
   ]
  },
  {
   "cell_type": "code",
   "execution_count": 42,
   "metadata": {},
   "outputs": [
    {
     "data": {
      "image/png": "[encoded data removed]",
      "text/plain": [
       "<matplotlib.figure.Figure at 0x1367a7b70>"
      ]
     },
     "metadata": {},
     "output_type": "display_data"
    }
   ],
   "source": [
    "import ctcsound\n",
    "data = ctcsound.pstring(timeseries).split('\\n')\n",
    "dates = []\n",
    "values = []\n",
    "\n",
    "for line in data[1:-1]:\n",
    "    date, val = line.split()\n",
    "    dates.append(date)\n",
    "    values.append(float(val))\n",
    "\n",
    "plot(values);"
   ]
  },
  {
   "cell_type": "code",
   "execution_count": 43,
   "metadata": {},
   "outputs": [
    {
     "name": "stdout",
     "output_type": "stream",
     "text": [
      "CsoundMagics: Csound already running\n"
     ]
    }
   ],
   "source": [
    "cs.startEngine()\n",
    "cs.fillTable(1, values)"
   ]
  },
  {
   "cell_type": "code",
   "execution_count": 44,
   "metadata": {},
   "outputs": [],
   "source": [
    "cs.sendScore('i 1 0 3 1')"
   ]
  },
  {
   "cell_type": "code",
   "execution_count": 37,
   "metadata": {},
   "outputs": [],
   "source": [
    "cs.sendScore('i 1 0 7 1')"
   ]
  },
  {
   "cell_type": "code",
   "execution_count": 38,
   "metadata": {},
   "outputs": [],
   "source": [
    "cs.sendScore('i 1 0 14 1')"
   ]
  },
  {
   "cell_type": "code",
   "execution_count": 39,
   "metadata": {},
   "outputs": [],
   "source": [
    "cs.sendScore('i 1 0 1 1')"
   ]
  },
  {
   "cell_type": "code",
   "execution_count": 40,
   "metadata": {},
   "outputs": [],
   "source": [
    "cs.sendScore('i 1 0 3 1')"
   ]
  },
  {
   "cell_type": "code",
   "execution_count": null,
   "metadata": {},
   "outputs": [],
   "source": []
  },
  {
   "cell_type": "code",
   "execution_count": null,
   "metadata": {},
   "outputs": [],
   "source": []
  },
  {
   "cell_type": "code",
   "execution_count": null,
   "metadata": {},
   "outputs": [],
   "source": []
  },
  {
   "cell_type": "code",
   "execution_count": null,
   "metadata": {},
   "outputs": [],
   "source": []
  }
 ],
 "metadata": {
  "kernelspec": {
   "display_name": "Python 3",
   "language": "python",
   "name": "python3"
  },
  "language_info": {
   "codemirror_mode": {
    "name": "ipython",
    "version": 3
   },
   "file_extension": ".py",
   "mimetype": "text/x-python",
   "name": "python",
   "nbconvert_exporter": "python",
   "pygments_lexer": "ipython3",
   "version": "3.6.4"
  }
 },
 "nbformat": 4,
 "nbformat_minor": 2
}
